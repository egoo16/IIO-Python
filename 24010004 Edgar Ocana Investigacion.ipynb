{
 "cells": [
  {
   "cell_type": "markdown",
   "id": "5e515d17-1d2d-4f56-a971-f56d5cd47440",
   "metadata": {},
   "source": [
    "# Investigación sobre Git, GitHub y MagicCells"
   ]
  },
  {
   "cell_type": "markdown",
   "id": "dc465010-bf48-4e4c-a9e2-3c908399d48f",
   "metadata": {},
   "source": [
    "## Qué es Git\n",
    "\n",
    "Git es un sistema de control de versiones distribuido que permite a los usuarios rastrear los cambios en archivos de código fuente y coordinar el trabajo entre múltiples personas en proyectos de desarrollo de software. Actualmente se ha convertido en una herramienta fundamental para el desarrollo de software en todo el mundo.\n",
    "\n",
    "### Características principales de Git:\n",
    "\n",
    "- **Distribuido**: Cada usuario tiene una copia completa del repositorio, lo que permite trabajar de forma independiente y sin conexión a internet.\n",
    "- **Historial de versiones**: Git almacena un historial completo de todos los cambios realizados en el código, lo que facilita la reversión a versiones anteriores si es necesario.\n",
    "- **Ramificación y fusión**: Permite crear ramas para trabajar en nuevas características de forma aislada y fusionar los cambios de diferentes ramas de manera eficiente.\n"
   ]
  },
  {
   "cell_type": "markdown",
   "id": "8f7b7e0d-4da9-452f-82cc-83700a9d8e67",
   "metadata": {},
   "source": [
    "## Qué es GitHub\n",
    "\n",
    "GitHub es una plataforma de desarrollo colaborativo basada en la web que utiliza Git como su sistema de control de versiones subyacente. GitHub ofrece una amplia gama de herramientas para desarrolladores, incluyendo alojamiento de repositorios de código, seguimiento de problemas, revisión de código y colaboración en proyectos de software.\n",
    "\n",
    "### Características principales de GitHub:\n",
    "\n",
    "- **Repositorios públicos y privados**: Los usuarios pueden elegir entre repositorios públicos (accesibles para todos) y repositorios privados (accesibles solo para colaboradores autorizados).\n",
    "- **Gestión de problemas**: Permite a los usuarios realizar un seguimiento de los problemas, asignar tareas y colaborar en la solución de problemas de software.\n",
    "- **Pull Requests**: Facilita la revisión de código y la integración de cambios mediante solicitudes de extracción que permiten a los colaboradores discutir y revisar el código antes de fusionarlo con la rama principal.\n"
   ]
  },
  {
   "cell_type": "markdown",
   "id": "5c893060-83e1-4faf-877b-88dc5c17eac4",
   "metadata": {},
   "source": [
    "## MagicCells \n",
    "\n",
    "MagicCells son una característica de Jupyter Notebook que permite realizar acciones especiales o controlar el comportamiento de las celdas de código utilizando ciertas palabras clave.\n",
    "\n",
    "### Tipos de MagicCells:\n",
    "\n",
    "- **Celdas mágicas de línea**: Comienzan con un signo de porcentaje (%) y se aplican solo a la línea en la que están escritas. Por ejemplo, `%matplotlib inline` permite mostrar gráficos de Matplotlib en línea en el notebook.\n",
    "- **Celdas mágicas de celda**: Comienzan con dos signos de porcentaje (%%) y se aplican a toda la celda. Por ejemplo, `%%timeit` se utiliza para medir el tiempo de ejecución de todo el código en una celda.\n",
    "\n",
    "\n",
    "### Ejemplos de uso de MagicCells:\n",
    "\n",
    "- `%ls`: Hace un listado de los archivos y carpetas contenidos en el directorio actual\n",
    "- `%cd ..`: Retrocede una pocisión del directorio actual\n",
    "- `%%bash`: Ejecuta comandos de Bash en la celda."
   ]
  },
  {
   "cell_type": "code",
   "execution_count": 17,
   "id": "7067f278-0c50-49fc-aa1f-c6e36034a0cc",
   "metadata": {
    "tags": []
   },
   "outputs": [
    {
     "name": "stdout",
     "output_type": "stream",
     "text": [
      "24010004 Edgar Ocana Investigacion.ipynb\n"
     ]
    }
   ],
   "source": [
    "%ls"
   ]
  },
  {
   "cell_type": "code",
   "execution_count": 5,
   "id": "7d73d459-d64f-49ac-8260-9a6505a02f67",
   "metadata": {
    "tags": []
   },
   "outputs": [
    {
     "name": "stdout",
     "output_type": "stream",
     "text": [
      "/Users/lotus-mac/Documents/Maestria/Python\n"
     ]
    }
   ],
   "source": [
    "%cd .."
   ]
  },
  {
   "cell_type": "code",
   "execution_count": 18,
   "id": "27fd7d0b-08d3-406b-9d80-634f3a238911",
   "metadata": {
    "tags": []
   },
   "outputs": [],
   "source": [
    "%%bash\n",
    "echo \"# IIO-Python\" >> README.md\n"
   ]
  },
  {
   "cell_type": "code",
   "execution_count": 19,
   "id": "10d77d4a-7acf-4a5c-b058-cfbe863b4654",
   "metadata": {
    "tags": []
   },
   "outputs": [
    {
     "name": "stdout",
     "output_type": "stream",
     "text": [
      "Initialized empty Git repository in /Users/lotus-mac/Documents/Maestria/Python/t1/Investigacion/.git/\n"
     ]
    }
   ],
   "source": [
    "%%bash\n",
    "git init\n"
   ]
  },
  {
   "cell_type": "code",
   "execution_count": 20,
   "id": "b3500b33-3363-4fe7-95c3-1d9aec1afe1d",
   "metadata": {
    "tags": []
   },
   "outputs": [],
   "source": [
    "%%bash\n",
    "git add ."
   ]
  },
  {
   "cell_type": "code",
   "execution_count": 21,
   "id": "f73d3d22-d7a7-4c5d-a0aa-43bc77916211",
   "metadata": {
    "tags": []
   },
   "outputs": [
    {
     "name": "stdout",
     "output_type": "stream",
     "text": [
      "[main (root-commit) d0581dd] Add file to investigation homework\n",
      " Committer: Geovany Ocaña <lotus-mac@Geovanys-MacBook-Pro.local>\n",
      "Your name and email address were configured automatically based\n",
      "on your username and hostname. Please check that they are accurate.\n",
      "You can suppress this message by setting them explicitly. Run the\n",
      "following command and follow the instructions in your editor to edit\n",
      "your configuration file:\n",
      "\n",
      "    git config --global --edit\n",
      "\n",
      "After doing this, you may fix the identity used for this commit with:\n",
      "\n",
      "    git commit --amend --reset-author\n",
      "\n",
      " 3 files changed, 292 insertions(+)\n",
      " create mode 100644 .ipynb_checkpoints/24010004 Edgar Ocana Investigacion-checkpoint.ipynb\n",
      " create mode 100644 24010004 Edgar Ocana Investigacion.ipynb\n",
      " create mode 100644 README.md\n"
     ]
    }
   ],
   "source": [
    "%%bash\n",
    "git commit -m \"Add file to investigation homework\""
   ]
  },
  {
   "cell_type": "code",
   "execution_count": 22,
   "id": "bea016f6-f524-4ff8-a623-df098de8c7cf",
   "metadata": {
    "tags": []
   },
   "outputs": [],
   "source": [
    "%%bash\n",
    "git branch -M main\n"
   ]
  },
  {
   "cell_type": "code",
   "execution_count": 23,
   "id": "c13bd7ee-fed0-45ef-b86a-3d95cdd3b396",
   "metadata": {
    "tags": []
   },
   "outputs": [],
   "source": [
    "%%bash\n",
    "git remote add origin https://github.com/egoo16/IIO-Python.git\n"
   ]
  },
  {
   "cell_type": "code",
   "execution_count": null,
   "id": "cafa4ad9-4d9c-442a-8998-c0ab824f1956",
   "metadata": {
    "tags": []
   },
   "outputs": [],
   "source": [
    "%%bash\n",
    "git push -u origin main"
   ]
  },
  {
   "cell_type": "code",
   "execution_count": null,
   "id": "606c196d-38e9-4fe0-82b4-9006c77f3b7a",
   "metadata": {},
   "outputs": [],
   "source": []
  }
 ],
 "metadata": {
  "kernelspec": {
   "display_name": "Python 3 (ipykernel)",
   "language": "python",
   "name": "python3"
  },
  "language_info": {
   "codemirror_mode": {
    "name": "ipython",
    "version": 3
   },
   "file_extension": ".py",
   "mimetype": "text/x-python",
   "name": "python",
   "nbconvert_exporter": "python",
   "pygments_lexer": "ipython3",
   "version": "3.11.5"
  }
 },
 "nbformat": 4,
 "nbformat_minor": 5
}
