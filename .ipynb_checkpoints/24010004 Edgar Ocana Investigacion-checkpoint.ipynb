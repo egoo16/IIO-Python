{
 "cells": [
  {
   "cell_type": "markdown",
   "id": "5e515d17-1d2d-4f56-a971-f56d5cd47440",
   "metadata": {},
   "source": [
    "# Investigación sobre Git, GitHub y MagicCells"
   ]
  },
  {
   "cell_type": "markdown",
   "id": "dc465010-bf48-4e4c-a9e2-3c908399d48f",
   "metadata": {},
   "source": [
    "## Qué es Git\n",
    "\n",
    "Git es un sistema de control de versiones distribuido que permite a los usuarios rastrear los cambios en archivos de código fuente y coordinar el trabajo entre múltiples personas en proyectos de desarrollo de software. Actualmente se ha convertido en una herramienta fundamental para el desarrollo de software en todo el mundo.\n",
    "\n",
    "### Características principales de Git:\n",
    "\n",
    "- **Distribuido**: Cada usuario tiene una copia completa del repositorio, lo que permite trabajar de forma independiente y sin conexión a internet.\n",
    "- **Historial de versiones**: Git almacena un historial completo de todos los cambios realizados en el código, lo que facilita la reversión a versiones anteriores si es necesario.\n",
    "- **Ramificación y fusión**: Permite crear ramas para trabajar en nuevas características de forma aislada y fusionar los cambios de diferentes ramas de manera eficiente.\n"
   ]
  },
  {
   "cell_type": "markdown",
   "id": "8f7b7e0d-4da9-452f-82cc-83700a9d8e67",
   "metadata": {},
   "source": [
    "## Qué es GitHub\n",
    "\n",
    "GitHub es una plataforma de desarrollo colaborativo basada en la web que utiliza Git como su sistema de control de versiones subyacente. GitHub ofrece una amplia gama de herramientas para desarrolladores, incluyendo alojamiento de repositorios de código, seguimiento de problemas, revisión de código y colaboración en proyectos de software.\n",
    "\n",
    "### Características principales de GitHub:\n",
    "\n",
    "- **Repositorios públicos y privados**: Los usuarios pueden elegir entre repositorios públicos (accesibles para todos) y repositorios privados (accesibles solo para colaboradores autorizados).\n",
    "- **Gestión de problemas**: Permite a los usuarios realizar un seguimiento de los problemas, asignar tareas y colaborar en la solución de problemas de software.\n",
    "- **Pull Requests**: Facilita la revisión de código y la integración de cambios mediante solicitudes de extracción que permiten a los colaboradores discutir y revisar el código antes de fusionarlo con la rama principal.\n"
   ]
  },
  {
   "cell_type": "markdown",
   "id": "5c893060-83e1-4faf-877b-88dc5c17eac4",
   "metadata": {},
   "source": [
    "## MagicCells \n",
    "\n",
    "MagicCells son una característica de Jupyter Notebook que permite realizar acciones especiales o controlar el comportamiento de las celdas de código utilizando ciertas palabras clave.\n",
    "\n",
    "### Tipos de MagicCells:\n",
    "\n",
    "- **Celdas mágicas de línea**: Comienzan con un signo de porcentaje (%) y se aplican solo a la línea en la que están escritas. Por ejemplo, `%matplotlib inline` permite mostrar gráficos de Matplotlib en línea en el notebook.\n",
    "- **Celdas mágicas de celda**: Comienzan con dos signos de porcentaje (%%) y se aplican a toda la celda. Por ejemplo, `%%timeit` se utiliza para medir el tiempo de ejecución de todo el código en una celda.\n",
    "\n",
    "\n",
    "### Ejemplos de uso de MagicCells:\n",
    "\n",
    "- `%ls`: Hace un listado de los archivos y carpetas contenidos en el directorio actual\n",
    "- `%cd ..`: Retrocede una pocisión del directorio actual\n",
    "- `%%bash`: Ejecuta comandos de Bash en la celda."
   ]
  },
  {
   "cell_type": "code",
   "execution_count": 4,
   "id": "7067f278-0c50-49fc-aa1f-c6e36034a0cc",
   "metadata": {
    "tags": []
   },
   "outputs": [
    {
     "name": "stdout",
     "output_type": "stream",
     "text": [
      "24010004  - Leccion2.ipynb  Lec3.ipynb\n",
      "\u001b[34mInvestigacion\u001b[m\u001b[m/\n"
     ]
    }
   ],
   "source": [
    "%ls"
   ]
  },
  {
   "cell_type": "code",
   "execution_count": 5,
   "id": "7d73d459-d64f-49ac-8260-9a6505a02f67",
   "metadata": {
    "tags": []
   },
   "outputs": [
    {
     "name": "stdout",
     "output_type": "stream",
     "text": [
      "/Users/lotus-mac/Documents/Maestria/Python\n"
     ]
    }
   ],
   "source": [
    "%cd .."
   ]
  },
  {
   "cell_type": "code",
   "execution_count": null,
   "id": "27fd7d0b-08d3-406b-9d80-634f3a238911",
   "metadata": {},
   "outputs": [],
   "source": []
  }
 ],
 "metadata": {
  "kernelspec": {
   "display_name": "Python 3 (ipykernel)",
   "language": "python",
   "name": "python3"
  },
  "language_info": {
   "codemirror_mode": {
    "name": "ipython",
    "version": 3
   },
   "file_extension": ".py",
   "mimetype": "text/x-python",
   "name": "python",
   "nbconvert_exporter": "python",
   "pygments_lexer": "ipython3",
   "version": "3.11.5"
  }
 },
 "nbformat": 4,
 "nbformat_minor": 5
}
